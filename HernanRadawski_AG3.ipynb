{
  "nbformat": 4,
  "nbformat_minor": 0,
  "metadata": {
    "kernelspec": {
      "display_name": "Python 3",
      "language": "python",
      "name": "python3"
    },
    "language_info": {
      "codemirror_mode": {
        "name": "ipython",
        "version": 3
      },
      "file_extension": ".py",
      "mimetype": "text/x-python",
      "name": "python",
      "nbconvert_exporter": "python",
      "pygments_lexer": "ipython3",
      "version": "3.7.4"
    },
    "colab": {
      "name": "HernanRadawski_AG3.ipynb",
      "provenance": [],
      "include_colab_link": true
    }
  },
  "cells": [
    {
      "cell_type": "markdown",
      "metadata": {
        "id": "view-in-github",
        "colab_type": "text"
      },
      "source": [
        "<a href=\"https://colab.research.google.com/github/hradawski/03MAIR---Algoritmos-de-Optimizacion---2019/blob/master/HernanRadawski_AG3.ipynb\" target=\"_parent\"><img src=\"https://colab.research.google.com/assets/colab-badge.svg\" alt=\"Open In Colab\"/></a>"
      ]
    },
    {
      "cell_type": "markdown",
      "metadata": {
        "id": "vLRKXXidIf5G",
        "colab_type": "text"
      },
      "source": [
        "Hernán Radawski <br>\n",
        "Link: https://colab.research.google.com/drive/1meCNwpfCue2dkH0dXwpd-1GLPmikU6E7 <br>\n",
        "Actividad Guiada 3"
      ]
    },
    {
      "cell_type": "code",
      "metadata": {
        "id": "a3iUrWr-If5J",
        "colab_type": "code",
        "outputId": "da191622-d519-4761-e5b3-e8fdaaa133d1",
        "colab": {
          "base_uri": "https://localhost:8080/",
          "height": 34
        }
      },
      "source": [
        "import urllib.request\n",
        "\n",
        "file = \"swiss42.tsp\"\n",
        "\n",
        "urllib.request.urlretrieve(\"http://elib.zib.de/pub/mp-testdata/tsp/tsplib/tsp/swiss42.tsp\", file)"
      ],
      "execution_count": 0,
      "outputs": [
        {
          "output_type": "execute_result",
          "data": {
            "text/plain": [
              "('swiss42.tsp', <http.client.HTTPMessage at 0x7f57bd0c4128>)"
            ]
          },
          "metadata": {
            "tags": []
          },
          "execution_count": 7
        }
      ]
    },
    {
      "cell_type": "code",
      "metadata": {
        "id": "bpPuO2bOIf5R",
        "colab_type": "code",
        "outputId": "2977d727-5081-40d5-d8f7-66a25bc25146",
        "colab": {
          "base_uri": "https://localhost:8080/",
          "height": 85
        }
      },
      "source": [
        "!pip install tsplib95\n",
        "import tsplib95\n",
        "import random\n",
        "problem= tsplib95.load_problem(file)"
      ],
      "execution_count": 0,
      "outputs": [
        {
          "output_type": "stream",
          "text": [
            "Requirement already satisfied: tsplib95 in /usr/local/lib/python3.6/dist-packages (0.6.1)\n",
            "Requirement already satisfied: networkx~=2.1 in /usr/local/lib/python3.6/dist-packages (from tsplib95) (2.4)\n",
            "Requirement already satisfied: Click>=6.0 in /usr/local/lib/python3.6/dist-packages (from tsplib95) (7.0)\n",
            "Requirement already satisfied: decorator>=4.3.0 in /usr/local/lib/python3.6/dist-packages (from networkx~=2.1->tsplib95) (4.4.1)\n"
          ],
          "name": "stdout"
        }
      ]
    },
    {
      "cell_type": "code",
      "metadata": {
        "id": "idq7VsKBIf5X",
        "colab_type": "code",
        "colab": {}
      },
      "source": [
        "Nodos = list(problem.get_nodes())\n",
        "Aristas= list(problem.get_edges())"
      ],
      "execution_count": 0,
      "outputs": []
    },
    {
      "cell_type": "code",
      "metadata": {
        "id": "froEwX83If5d",
        "colab_type": "code",
        "outputId": "f68ba504-6a68-4efc-a408-ee214a3261ae",
        "colab": {
          "base_uri": "https://localhost:8080/",
          "height": 731
        }
      },
      "source": [
        "#Se genera una solucion aleatoria con comienzo en en el nodo 0\n",
        "def crear_solucion(Nodos): \n",
        "  solucion = [0]\n",
        "  for i in range(len(Nodos)-1):\n",
        "    solucion = solucion + [random.choice(list(set(Nodos) - set({0}) - set(solucion)))]\n",
        "  return solucion  \n",
        "crear_solucion(Nodos)"
      ],
      "execution_count": 0,
      "outputs": [
        {
          "output_type": "execute_result",
          "data": {
            "text/plain": [
              "[0,\n",
              " 1,\n",
              " 13,\n",
              " 12,\n",
              " 41,\n",
              " 17,\n",
              " 10,\n",
              " 35,\n",
              " 19,\n",
              " 33,\n",
              " 39,\n",
              " 20,\n",
              " 30,\n",
              " 3,\n",
              " 2,\n",
              " 21,\n",
              " 9,\n",
              " 14,\n",
              " 32,\n",
              " 28,\n",
              " 31,\n",
              " 25,\n",
              " 5,\n",
              " 7,\n",
              " 22,\n",
              " 36,\n",
              " 24,\n",
              " 38,\n",
              " 37,\n",
              " 6,\n",
              " 34,\n",
              " 15,\n",
              " 16,\n",
              " 11,\n",
              " 29,\n",
              " 40,\n",
              " 23,\n",
              " 26,\n",
              " 8,\n",
              " 27,\n",
              " 4,\n",
              " 18]"
            ]
          },
          "metadata": {
            "tags": []
          },
          "execution_count": 32
        }
      ]
    },
    {
      "cell_type": "code",
      "metadata": {
        "id": "BJjZVm02If5k",
        "colab_type": "code",
        "outputId": "78ad787d-efaa-4492-eb93-6115d57ad909",
        "colab": {
          "base_uri": "https://localhost:8080/",
          "height": 34
        }
      },
      "source": [
        "#Devuelve la distancia entre dos nodos\n",
        "def distancia(a,b, problem):\n",
        "  return problem.wfunc(a,b)\n",
        "distancia(0,1,problem)"
      ],
      "execution_count": 0,
      "outputs": [
        {
          "output_type": "execute_result",
          "data": {
            "text/plain": [
              "15"
            ]
          },
          "metadata": {
            "tags": []
          },
          "execution_count": 33
        }
      ]
    },
    {
      "cell_type": "code",
      "metadata": {
        "id": "WFFu8h0mIf5v",
        "colab_type": "code",
        "outputId": "abce0883-0be6-4023-ef82-60ed24f0b570",
        "colab": {
          "base_uri": "https://localhost:8080/",
          "height": 34
        }
      },
      "source": [
        "#Devuelve la distancia total de una trayectoria\n",
        "def distancia_total(solucion, problem):\n",
        "  distancia_total = 0\n",
        "  for i in range(len(solucion)-1):\n",
        "    distancia_total += distancia(solucion[i] ,solucion[i+1] ,  problem)\n",
        "  return distancia_total + distancia(solucion[len(solucion)-1] ,solucion[0], problem)\n",
        "\n",
        "solucion = crear_solucion(Nodos)\n",
        "distancia_total(solucion, problem)"
      ],
      "execution_count": 0,
      "outputs": [
        {
          "output_type": "execute_result",
          "data": {
            "text/plain": [
              "4451"
            ]
          },
          "metadata": {
            "tags": []
          },
          "execution_count": 34
        }
      ]
    },
    {
      "cell_type": "markdown",
      "metadata": {
        "id": "hhfPq7sMIf54",
        "colab_type": "text"
      },
      "source": [
        "## Busqueda Aleatoria"
      ]
    },
    {
      "cell_type": "code",
      "metadata": {
        "id": "lQr_mdEkIf56",
        "colab_type": "code",
        "outputId": "57fbc10d-9786-4545-a065-2ea71586f921",
        "colab": {
          "base_uri": "https://localhost:8080/",
          "height": 34
        }
      },
      "source": [
        "def busqueda_aleatoria(problem, N): \n",
        "    mejor_solucion = crear_solucion(Nodos)\n",
        "    mejor_valor = distancia_total(mejor_solucion, problem)\n",
        "    for i in range(N):\n",
        "        solucion = crear_solucion(Nodos)\n",
        "        valor = distancia_total(solucion, problem)\n",
        "        if valor < mejor_valor:\n",
        "            mejor_solucion = solucion \n",
        "            mejor_valor = valor\n",
        "    print('La mejor solucion es ', mejor_valor, mejor_solucion)\n",
        "\n",
        "busqueda_aleatoria(problem, 20000)\n"
      ],
      "execution_count": 0,
      "outputs": [
        {
          "output_type": "stream",
          "text": [
            "La mejor solucion es  3740 [0, 35, 36, 33, 20, 7, 24, 8, 30, 18, 6, 27, 41, 22, 32, 23, 34, 31, 15, 14, 13, 17, 10, 12, 21, 40, 38, 29, 1, 25, 11, 28, 3, 4, 5, 26, 16, 19, 9, 2, 37, 39]\n"
          ],
          "name": "stdout"
        }
      ]
    },
    {
      "cell_type": "code",
      "metadata": {
        "id": "r_tHm25gIf6A",
        "colab_type": "code",
        "outputId": "eb1f074d-e194-4b9e-d060-d7e891f9fa95",
        "colab": {
          "base_uri": "https://localhost:8080/",
          "height": 34
        }
      },
      "source": [
        "def genera_vecina(solucion):\n",
        "  #Generador de soluciones vecinas: 2-opt (intercambiar 2 nodos) Si hay N nodos se generan (N-1)x(N-2)/2 soluciones\n",
        "  #print(solucion)\n",
        "    mejor_solucion = []\n",
        "    mejor_distancia = 10e100\n",
        "    for i in range(1,len(solucion)-1):\n",
        "        for j in range(i+1, len(solucion)):\n",
        "            vecina = solucion[:i] + [solucion[j]] + solucion[i+1:j] + [solucion[i]] + solucion[j+1:] \n",
        "            #print(vecina)\n",
        "            distancia_vecina = distancia_total(vecina, problem)\n",
        "            if distancia_vecina <= mejor_distancia:\n",
        "                mejor_distancia = distancia_vecina\n",
        "                mejor_solucion = vecina\n",
        "    #print(mejor_distancia, mejor_solucion)\n",
        "    return mejor_solucion\n",
        "      \n",
        "solucion = crear_solucion(Nodos)\n",
        "#print(\"solucion \", solucion)\n",
        "mejor_solucion = genera_vecina(solucion)\n",
        "print(mejor_solucion, distancia_total(mejor_solucion, problem))"
      ],
      "execution_count": 0,
      "outputs": [
        {
          "output_type": "stream",
          "text": [
            "[0, 35, 34, 17, 8, 30, 27, 38, 37, 3, 13, 25, 14, 7, 15, 4, 18, 36, 22, 21, 40, 39, 10, 12, 32, 9, 33, 28, 26, 23, 19, 1, 31, 2, 6, 16, 5, 11, 20, 29, 41, 24] 4271\n"
          ],
          "name": "stdout"
        }
      ]
    },
    {
      "cell_type": "code",
      "metadata": {
        "id": "G__QmfD1If6H",
        "colab_type": "code",
        "outputId": "9b70b43e-dd29-40ed-b247-0d72f62c0ace",
        "colab": {
          "base_uri": "https://localhost:8080/",
          "height": 34
        }
      },
      "source": [
        "#####################################################################\n",
        "def busqueda_local(problem, N):\n",
        "  #problem = datos del problema\n",
        "  #N = numero de iteraciones\n",
        "  \n",
        "    mejor_solucion = []\n",
        "    mejor_distancia = 10e100\n",
        "  \n",
        "    solucion_referencia = crear_solucion(Nodos)\n",
        "  \n",
        "    for i in range(N):\n",
        "        vecina = genera_vecina(solucion_referencia)\n",
        "        distancia_vecina = distancia_total(vecina, problem)\n",
        "        if distancia_vecina <= mejor_distancia:\n",
        "            mejor_solucion = vecina\n",
        "            mejor_distancia = distancia_vecina\n",
        "\n",
        "        solucion_referencia = vecina\n",
        "        \n",
        "    print(\"La mejor solución encontrada es \" , mejor_distancia , mejor_solucion)\n",
        "\n",
        "busqueda_local(problem, 500)    "
      ],
      "execution_count": 0,
      "outputs": [
        {
          "output_type": "stream",
          "text": [
            "La mejor solución encontrada es  1652 [0, 6, 5, 26, 18, 13, 19, 14, 16, 15, 37, 17, 36, 35, 31, 10, 23, 41, 25, 11, 12, 3, 32, 34, 33, 20, 7, 1, 4, 8, 9, 21, 40, 24, 39, 22, 38, 30, 29, 28, 2, 27]\n"
          ],
          "name": "stdout"
        }
      ]
    },
    {
      "cell_type": "code",
      "metadata": {
        "scrolled": false,
        "id": "PgnMdRmnIf6K",
        "colab_type": "code",
        "outputId": "03a8120a-8d57-4532-bd5c-f489ee1edd82",
        "colab": {
          "base_uri": "https://localhost:8080/",
          "height": 51
        }
      },
      "source": [
        "def genera_vecina_aleatorio(solucion):\n",
        "  #Generador de 1 solucion vecina 2-opt (intercambiar 2 nodos)\n",
        "  #Se puede mejorar haciendo que la elección no se uniforme sino entre las que estén más proximas\n",
        "  i = random.choice(range(1, len(solucion)) )\n",
        "  j = random.choice(list(set(range(1, len(solucion))) - {i}))\n",
        "  if j<i:\n",
        "    i,j=j,i\n",
        "  vecina = list(solucion[:i] + [solucion[j]] + solucion[i+1:j] + [solucion[i]] + solucion[j+1:])\n",
        "  return vecina\n",
        "solucion= crear_solucion(Nodos)\n",
        "print(solucion, \"\\n\", genera_vecina_aleatorio(genera_vecina_aleatorio(solucion)))"
      ],
      "execution_count": 51,
      "outputs": [
        {
          "output_type": "stream",
          "text": [
            "[0, 15, 19, 6, 10, 28, 40, 4, 27, 38, 30, 11, 7, 17, 36, 9, 16, 37, 20, 1, 23, 35, 32, 39, 21, 14, 5, 8, 29, 26, 34, 22, 24, 41, 18, 12, 13, 25, 31, 2, 33, 3] \n",
            " [0, 15, 19, 6, 10, 28, 40, 4, 27, 38, 30, 12, 7, 17, 36, 9, 16, 37, 20, 1, 23, 35, 32, 39, 21, 14, 5, 8, 33, 26, 34, 22, 24, 41, 18, 11, 13, 25, 31, 2, 29, 3]\n"
          ],
          "name": "stdout"
        }
      ]
    },
    {
      "cell_type": "code",
      "metadata": {
        "id": "avYa_W8xIf6O",
        "colab_type": "code",
        "colab": {}
      },
      "source": [
        "#Funcion de probabilidad para determinar si se cambia \n",
        "#    a una solución peor respecto a la de referencia(exponencial)\n",
        "import math\n",
        "def probabilidad(T,d):\n",
        "    if random.random() <= math.exp(-1*d / T)   :\n",
        "        return True\n",
        "    else:\n",
        "        return False\n",
        "\n",
        "\n",
        "def bajar_temperatura(T):\n",
        "    return T*.9999"
      ],
      "execution_count": 0,
      "outputs": []
    },
    {
      "cell_type": "code",
      "metadata": {
        "id": "iAHdyiJuIf6T",
        "colab_type": "code",
        "outputId": "46dfc3fe-31e0-419d-8200-0e5fedc94095",
        "colab": {
          "base_uri": "https://localhost:8080/",
          "height": 1000
        }
      },
      "source": [
        "#####################################################################\n",
        "def recocido_simulado(problem, TEMPERATURA=1000):\n",
        "  #problem = datos del problema\n",
        "\n",
        "  solucion_referencia = crear_solucion(Nodos)\n",
        "  distancia_referencia = distancia_total(solucion_referencia, problem)\n",
        "  \n",
        "  mejor_solucion = []\n",
        "  mejor_distancia = 10e100\n",
        "  while TEMPERATURA > 1:\n",
        "    #Genera una solución vecina(aleatoria)\n",
        "    vecina = genera_vecina_aleatorio(solucion_referencia) \n",
        "\n",
        "    #Calcula su valor(distancia)\n",
        "    distancia_vecina = distancia_total(vecina, problem)\n",
        "\n",
        "    #Si es la mejor solución de todas se guarda\n",
        "    if distancia_vecina < mejor_distancia:\n",
        "      mejor_solucion = vecina\n",
        "      mejor_distancia = distancia_vecina\n",
        "      print('\\t****Encontrada mejor solucion:', mejor_distancia , mejor_solucion, '\\n')\n",
        "\n",
        "    #Si la nueva vecina es mejor se cambia y si es peor se cambia según \n",
        "    # una probabilidad dependiente de T y de |distancia_referencia - distancia_vecina|\n",
        "    p = probabilidad(TEMPERATURA, abs(distancia_referencia - distancia_vecina) )\n",
        "    if distancia_vecina < distancia_referencia or p :\n",
        "      solucion_referencia = vecina\n",
        "      distancia_referencia = distancia_vecina\n",
        "\n",
        "    TEMPERATURA = bajar_temperatura(TEMPERATURA)\n",
        "  \n",
        "  print(\"La mejor solución encontrada es :\" , mejor_distancia, mejor_solucion  )\n",
        "  return mejor_solucion\n",
        "\n",
        "sol = recocido_simulado(problem, TEMPERATURA=1000)"
      ],
      "execution_count": 0,
      "outputs": [
        {
          "output_type": "stream",
          "text": [
            "\t****Encontrada mejor solucion: 5491 [0, 10, 36, 30, 29, 26, 40, 37, 15, 5, 21, 14, 6, 33, 4, 20, 11, 12, 34, 24, 35, 2, 25, 1, 23, 28, 18, 17, 27, 8, 19, 9, 39, 31, 41, 7, 3, 16, 22, 13, 38, 32] \n",
            "\n",
            "\t****Encontrada mejor solucion: 5131 [0, 10, 36, 30, 29, 26, 40, 37, 15, 5, 16, 14, 6, 33, 4, 20, 11, 27, 34, 24, 35, 2, 25, 1, 23, 28, 18, 17, 12, 8, 19, 9, 39, 31, 41, 7, 3, 21, 22, 13, 38, 32] \n",
            "\n",
            "\t****Encontrada mejor solucion: 4889 [0, 10, 36, 30, 29, 26, 3, 37, 15, 5, 16, 14, 6, 33, 4, 20, 11, 27, 34, 24, 35, 2, 25, 1, 23, 28, 18, 17, 12, 8, 19, 9, 39, 31, 41, 7, 40, 21, 22, 13, 38, 32] \n",
            "\n",
            "\t****Encontrada mejor solucion: 4887 [0, 29, 25, 23, 35, 30, 24, 22, 19, 36, 26, 4, 33, 20, 15, 5, 3, 12, 41, 8, 17, 2, 6, 11, 32, 10, 31, 38, 37, 34, 14, 16, 39, 18, 27, 7, 40, 1, 21, 13, 9, 28] \n",
            "\n",
            "\t****Encontrada mejor solucion: 4815 [0, 29, 25, 23, 35, 30, 24, 22, 19, 36, 26, 39, 33, 20, 15, 5, 3, 12, 41, 8, 17, 2, 6, 11, 32, 10, 31, 38, 37, 34, 14, 16, 4, 18, 27, 7, 40, 1, 21, 13, 9, 28] \n",
            "\n",
            "\t****Encontrada mejor solucion: 4772 [0, 29, 25, 23, 35, 30, 24, 22, 19, 36, 26, 39, 33, 20, 15, 5, 3, 12, 41, 8, 17, 2, 6, 11, 32, 10, 31, 38, 37, 34, 14, 16, 4, 13, 27, 7, 40, 1, 21, 18, 9, 28] \n",
            "\n",
            "\t****Encontrada mejor solucion: 4701 [0, 29, 25, 23, 16, 30, 24, 22, 19, 36, 26, 39, 33, 37, 15, 5, 3, 12, 41, 8, 17, 2, 6, 11, 32, 10, 31, 38, 20, 34, 14, 35, 4, 13, 27, 7, 40, 1, 21, 18, 9, 28] \n",
            "\n",
            "\t****Encontrada mejor solucion: 4644 [0, 29, 25, 23, 16, 28, 40, 22, 37, 9, 38, 39, 7, 19, 15, 5, 3, 24, 41, 18, 4, 2, 6, 33, 32, 10, 31, 26, 11, 34, 14, 35, 17, 13, 27, 20, 12, 1, 21, 8, 36, 30] \n",
            "\n",
            "\t****Encontrada mejor solucion: 4501 [0, 25, 14, 10, 35, 17, 21, 23, 13, 37, 1, 15, 36, 33, 11, 5, 8, 2, 6, 9, 40, 22, 34, 24, 12, 28, 31, 19, 38, 7, 41, 29, 30, 20, 27, 3, 32, 4, 18, 39, 26, 16] \n",
            "\n",
            "\t****Encontrada mejor solucion: 4499 [0, 25, 14, 10, 35, 17, 21, 9, 13, 37, 1, 15, 36, 33, 11, 5, 8, 2, 6, 23, 40, 22, 34, 24, 12, 28, 31, 19, 38, 7, 41, 29, 30, 20, 27, 3, 32, 4, 18, 39, 26, 16] \n",
            "\n",
            "\t****Encontrada mejor solucion: 4161 [0, 25, 14, 7, 35, 17, 21, 9, 13, 37, 1, 15, 36, 33, 11, 5, 8, 2, 6, 23, 40, 22, 34, 24, 12, 28, 31, 19, 38, 10, 41, 29, 30, 20, 27, 3, 32, 4, 18, 39, 26, 16] \n",
            "\n",
            "\t****Encontrada mejor solucion: 4123 [0, 15, 14, 7, 37, 36, 21, 38, 13, 19, 1, 26, 25, 33, 24, 9, 35, 20, 32, 29, 31, 34, 17, 30, 23, 18, 8, 12, 3, 39, 6, 22, 40, 5, 2, 27, 28, 10, 4, 16, 11, 41] \n",
            "\n",
            "\t****Encontrada mejor solucion: 3866 [0, 15, 14, 7, 37, 36, 21, 6, 13, 19, 1, 26, 25, 33, 24, 9, 35, 20, 32, 29, 31, 34, 17, 30, 23, 18, 8, 12, 3, 39, 38, 22, 40, 5, 2, 27, 28, 10, 4, 16, 11, 41] \n",
            "\n",
            "\t****Encontrada mejor solucion: 3843 [0, 17, 35, 37, 15, 40, 21, 20, 24, 19, 30, 2, 6, 13, 5, 7, 23, 12, 11, 8, 29, 16, 14, 36, 22, 18, 26, 32, 3, 9, 39, 33, 38, 27, 4, 34, 31, 1, 41, 10, 25, 28] \n",
            "\n",
            "\t****Encontrada mejor solucion: 3812 [0, 38, 31, 37, 7, 16, 15, 18, 1, 27, 13, 17, 35, 20, 9, 41, 40, 29, 2, 8, 34, 4, 3, 33, 10, 23, 24, 21, 30, 22, 12, 36, 32, 6, 5, 26, 11, 28, 39, 14, 25, 19] \n",
            "\n",
            "\t****Encontrada mejor solucion: 3803 [0, 35, 31, 37, 7, 16, 15, 18, 1, 6, 13, 17, 38, 20, 9, 41, 40, 29, 2, 8, 34, 4, 3, 33, 10, 23, 24, 21, 30, 22, 12, 36, 32, 27, 5, 26, 11, 28, 39, 14, 25, 19] \n",
            "\n",
            "\t****Encontrada mejor solucion: 3647 [0, 41, 23, 20, 34, 29, 37, 12, 3, 26, 28, 18, 15, 10, 27, 4, 2, 1, 7, 17, 16, 14, 25, 6, 13, 33, 36, 9, 8, 19, 35, 32, 38, 22, 21, 39, 24, 40, 11, 5, 31, 30] \n",
            "\n",
            "\t****Encontrada mejor solucion: 3626 [0, 13, 19, 17, 18, 5, 38, 21, 24, 37, 27, 10, 9, 25, 40, 22, 34, 30, 26, 3, 4, 15, 14, 16, 1, 6, 2, 11, 32, 33, 36, 31, 29, 23, 8, 28, 41, 12, 7, 39, 20, 35] \n",
            "\n",
            "\t****Encontrada mejor solucion: 3565 [0, 7, 14, 29, 11, 25, 27, 5, 4, 32, 13, 18, 3, 19, 26, 30, 41, 23, 8, 20, 33, 35, 6, 38, 24, 22, 21, 39, 9, 31, 16, 40, 12, 28, 34, 2, 15, 37, 17, 36, 1, 10] \n",
            "\n",
            "\t****Encontrada mejor solucion: 3543 [0, 37, 14, 10, 23, 26, 6, 1, 35, 33, 31, 7, 16, 3, 27, 39, 21, 29, 13, 5, 28, 12, 9, 8, 18, 2, 36, 38, 40, 24, 22, 41, 17, 15, 32, 30, 19, 20, 34, 4, 11, 25] \n",
            "\n",
            "\t****Encontrada mejor solucion: 3540 [0, 37, 19, 10, 23, 26, 6, 1, 35, 33, 31, 7, 16, 3, 27, 39, 21, 29, 13, 5, 28, 12, 9, 8, 18, 2, 36, 38, 40, 24, 22, 41, 17, 15, 32, 30, 14, 20, 34, 4, 11, 25] \n",
            "\n",
            "\t****Encontrada mejor solucion: 3519 [0, 34, 32, 28, 3, 1, 38, 22, 29, 39, 23, 25, 6, 19, 13, 10, 27, 17, 2, 30, 20, 14, 35, 36, 15, 5, 26, 24, 40, 12, 4, 11, 9, 21, 37, 7, 41, 8, 16, 31, 33, 18] \n",
            "\n",
            "\t****Encontrada mejor solucion: 3442 [0, 18, 14, 1, 6, 15, 27, 30, 10, 25, 12, 21, 35, 36, 3, 28, 29, 8, 11, 40, 16, 13, 24, 22, 38, 33, 32, 17, 37, 7, 31, 20, 34, 41, 23, 5, 19, 2, 4, 39, 9, 26] \n",
            "\n",
            "\t****Encontrada mejor solucion: 3419 [0, 27, 14, 15, 16, 19, 10, 18, 5, 4, 28, 32, 23, 3, 8, 29, 31, 20, 12, 1, 2, 9, 25, 26, 7, 34, 38, 41, 6, 17, 33, 35, 30, 22, 39, 40, 21, 24, 11, 37, 36, 13] \n",
            "\n",
            "\t****Encontrada mejor solucion: 3398 [0, 11, 14, 7, 16, 19, 5, 31, 38, 34, 28, 32, 4, 15, 36, 35, 17, 33, 37, 2, 18, 22, 1, 30, 12, 8, 29, 10, 27, 6, 26, 20, 3, 13, 24, 40, 21, 39, 25, 23, 41, 9] \n",
            "\n",
            "\t****Encontrada mejor solucion: 3350 [0, 11, 14, 7, 16, 19, 5, 31, 38, 34, 28, 32, 4, 15, 36, 35, 17, 33, 37, 2, 3, 22, 1, 30, 12, 8, 29, 10, 27, 6, 26, 20, 18, 13, 24, 40, 21, 39, 25, 23, 41, 9] \n",
            "\n",
            "\t****Encontrada mejor solucion: 3345 [0, 4, 1, 37, 34, 22, 40, 21, 7, 10, 12, 16, 14, 26, 27, 2, 36, 17, 35, 31, 33, 20, 30, 25, 15, 32, 38, 28, 29, 3, 13, 23, 18, 9, 11, 41, 24, 39, 8, 6, 19, 5] \n",
            "\n",
            "\t****Encontrada mejor solucion: 3277 [0, 4, 1, 37, 34, 22, 40, 21, 7, 10, 9, 16, 14, 26, 27, 2, 36, 17, 35, 31, 33, 20, 30, 25, 15, 32, 38, 28, 29, 3, 13, 23, 18, 12, 11, 41, 24, 39, 8, 6, 19, 5] \n",
            "\n",
            "\t****Encontrada mejor solucion: 3264 [0, 4, 1, 37, 34, 22, 40, 21, 7, 10, 3, 16, 14, 26, 27, 2, 36, 17, 35, 31, 33, 20, 30, 25, 15, 32, 38, 28, 29, 9, 13, 23, 18, 12, 11, 41, 24, 39, 8, 6, 19, 5] \n",
            "\n",
            "\t****Encontrada mejor solucion: 3222 [0, 4, 1, 37, 34, 22, 40, 21, 7, 10, 3, 16, 14, 26, 27, 2, 36, 17, 31, 35, 33, 20, 30, 25, 15, 32, 38, 28, 29, 9, 13, 23, 18, 12, 11, 41, 24, 39, 8, 6, 19, 5] \n",
            "\n",
            "\t****Encontrada mejor solucion: 3207 [0, 4, 1, 37, 34, 22, 40, 21, 7, 10, 3, 16, 14, 26, 13, 2, 36, 17, 31, 35, 33, 20, 30, 25, 15, 32, 38, 28, 29, 9, 27, 23, 18, 11, 12, 41, 24, 39, 8, 6, 19, 5] \n",
            "\n",
            "\t****Encontrada mejor solucion: 3206 [0, 4, 1, 37, 34, 22, 40, 21, 7, 10, 3, 16, 14, 26, 13, 2, 36, 17, 31, 35, 33, 20, 30, 25, 15, 32, 38, 28, 8, 9, 27, 23, 18, 11, 12, 41, 24, 39, 29, 6, 19, 5] \n",
            "\n",
            "\t****Encontrada mejor solucion: 3126 [0, 4, 1, 32, 34, 22, 40, 21, 7, 10, 3, 16, 14, 26, 13, 2, 36, 17, 31, 35, 33, 20, 30, 25, 15, 37, 38, 28, 8, 9, 27, 23, 18, 11, 12, 41, 24, 39, 29, 6, 19, 5] \n",
            "\n",
            "\t****Encontrada mejor solucion: 3075 [0, 26, 4, 1, 27, 37, 17, 35, 7, 36, 38, 34, 8, 28, 11, 13, 18, 30, 33, 20, 14, 15, 16, 19, 32, 31, 10, 22, 21, 40, 24, 41, 23, 39, 25, 29, 9, 3, 2, 6, 12, 5] \n",
            "\n",
            "\t****Encontrada mejor solucion: 3032 [0, 26, 4, 2, 27, 37, 17, 35, 7, 36, 38, 34, 8, 28, 11, 13, 18, 30, 33, 20, 14, 15, 16, 19, 32, 31, 10, 22, 21, 40, 24, 41, 23, 39, 25, 29, 9, 3, 1, 6, 12, 5] \n",
            "\n",
            "\t****Encontrada mejor solucion: 3026 [0, 26, 4, 2, 27, 18, 17, 37, 31, 36, 38, 34, 35, 8, 11, 13, 12, 25, 33, 20, 16, 15, 14, 19, 32, 7, 10, 22, 21, 40, 24, 41, 23, 39, 30, 1, 28, 3, 29, 9, 6, 5] \n",
            "\n",
            "\t****Encontrada mejor solucion: 2989 [0, 7, 4, 22, 27, 30, 17, 32, 36, 35, 38, 34, 19, 18, 11, 13, 26, 3, 33, 20, 16, 15, 14, 37, 31, 1, 10, 8, 40, 21, 24, 9, 23, 39, 2, 6, 28, 41, 29, 25, 12, 5] \n",
            "\n",
            "\t****Encontrada mejor solucion: 2935 [0, 7, 4, 22, 27, 30, 17, 32, 36, 35, 38, 34, 19, 18, 11, 13, 26, 3, 33, 20, 16, 15, 14, 37, 31, 1, 10, 8, 40, 21, 24, 9, 29, 39, 2, 6, 28, 41, 23, 25, 12, 5] \n",
            "\n",
            "\t****Encontrada mejor solucion: 2931 [0, 7, 4, 22, 27, 10, 17, 20, 36, 35, 38, 34, 19, 18, 13, 5, 6, 3, 33, 32, 16, 15, 14, 37, 31, 1, 2, 8, 29, 21, 24, 39, 40, 9, 30, 25, 11, 41, 23, 26, 12, 28] \n",
            "\n",
            "\t****Encontrada mejor solucion: 2853 [0, 7, 6, 28, 27, 10, 17, 20, 36, 35, 38, 34, 19, 18, 13, 5, 4, 3, 33, 32, 16, 15, 14, 37, 1, 31, 2, 30, 29, 21, 24, 39, 40, 9, 8, 25, 11, 41, 23, 26, 12, 22] \n",
            "\n",
            "\t****Encontrada mejor solucion: 2815 [0, 16, 6, 3, 27, 1, 17, 15, 36, 35, 38, 9, 10, 18, 13, 5, 4, 28, 33, 32, 7, 20, 14, 37, 19, 31, 34, 22, 40, 21, 24, 39, 29, 2, 8, 25, 11, 41, 23, 26, 12, 30] \n",
            "\n",
            "\t****Encontrada mejor solucion: 2761 [0, 2, 1, 19, 13, 18, 22, 24, 32, 30, 29, 33, 34, 26, 5, 38, 20, 31, 4, 3, 27, 9, 40, 23, 21, 39, 8, 41, 25, 10, 11, 12, 28, 6, 15, 16, 7, 17, 36, 14, 35, 37] \n",
            "\n",
            "\t****Encontrada mejor solucion: 2738 [0, 33, 36, 35, 3, 6, 18, 11, 8, 22, 29, 10, 25, 41, 30, 38, 24, 21, 40, 9, 39, 23, 7, 14, 17, 1, 27, 34, 20, 26, 19, 16, 5, 2, 4, 28, 32, 31, 15, 37, 13, 12] \n",
            "\n",
            "\t****Encontrada mejor solucion: 2721 [0, 34, 31, 35, 36, 17, 4, 23, 41, 3, 8, 11, 10, 25, 21, 24, 40, 12, 27, 38, 9, 2, 28, 32, 33, 20, 22, 39, 18, 26, 14, 16, 19, 5, 1, 30, 29, 6, 15, 37, 13, 7] \n",
            "\n",
            "\t****Encontrada mejor solucion: 2621 [0, 16, 15, 36, 20, 33, 35, 30, 22, 38, 34, 26, 14, 5, 2, 28, 8, 40, 21, 9, 32, 31, 19, 13, 6, 27, 7, 1, 37, 17, 29, 24, 39, 23, 25, 41, 10, 11, 12, 18, 4, 3] \n",
            "\n",
            "\t****Encontrada mejor solucion: 2615 [0, 16, 15, 36, 20, 33, 35, 34, 22, 38, 30, 26, 14, 5, 2, 28, 8, 40, 23, 9, 32, 31, 19, 13, 6, 27, 29, 1, 37, 17, 7, 24, 39, 21, 25, 41, 10, 11, 12, 18, 4, 3] \n",
            "\n",
            "\t****Encontrada mejor solucion: 2580 [0, 16, 15, 36, 20, 33, 35, 34, 22, 38, 30, 26, 14, 5, 29, 28, 8, 40, 23, 9, 32, 31, 19, 13, 6, 27, 2, 1, 37, 17, 7, 24, 39, 21, 25, 41, 10, 11, 12, 18, 4, 3] \n",
            "\n",
            "\t****Encontrada mejor solucion: 2430 [0, 16, 15, 36, 35, 33, 20, 34, 22, 38, 30, 14, 26, 5, 29, 28, 8, 40, 23, 9, 32, 31, 19, 13, 6, 27, 2, 1, 37, 17, 7, 24, 39, 21, 25, 41, 10, 11, 12, 18, 4, 3] \n",
            "\n",
            "\t****Encontrada mejor solucion: 2389 [0, 27, 4, 1, 18, 5, 41, 12, 13, 19, 15, 16, 14, 26, 11, 25, 10, 23, 21, 24, 39, 22, 30, 38, 40, 2, 3, 28, 8, 9, 29, 6, 17, 7, 34, 32, 37, 35, 36, 31, 33, 20] \n",
            "\n",
            "\t****Encontrada mejor solucion: 2388 [0, 27, 4, 26, 18, 5, 41, 12, 13, 19, 15, 16, 14, 1, 11, 25, 10, 23, 21, 24, 39, 22, 30, 38, 40, 2, 3, 28, 8, 9, 29, 6, 17, 7, 34, 32, 37, 35, 36, 31, 33, 20] \n",
            "\n",
            "\t****Encontrada mejor solucion: 2354 [0, 2, 4, 26, 18, 12, 41, 5, 13, 19, 15, 16, 14, 17, 11, 25, 10, 23, 21, 24, 39, 22, 30, 38, 8, 27, 3, 28, 40, 9, 29, 6, 1, 7, 34, 32, 37, 35, 36, 31, 33, 20] \n",
            "\n",
            "\t****Encontrada mejor solucion: 2351 [0, 27, 7, 1, 3, 4, 10, 11, 12, 13, 15, 14, 16, 37, 19, 5, 6, 29, 24, 40, 39, 38, 33, 32, 30, 9, 22, 25, 8, 41, 21, 23, 18, 26, 28, 2, 36, 35, 17, 31, 34, 20] \n",
            "\n",
            "\t****Encontrada mejor solucion: 2310 [0, 2, 7, 1, 3, 4, 10, 11, 12, 13, 15, 14, 16, 37, 19, 5, 6, 22, 24, 40, 39, 38, 33, 32, 30, 9, 29, 25, 8, 41, 21, 23, 18, 26, 28, 27, 36, 35, 17, 31, 34, 20] \n",
            "\n",
            "\t****Encontrada mejor solucion: 2266 [0, 2, 7, 1, 3, 26, 18, 11, 12, 13, 15, 14, 16, 37, 19, 5, 6, 22, 24, 40, 39, 38, 33, 32, 30, 9, 29, 25, 8, 41, 21, 23, 10, 4, 28, 27, 36, 35, 17, 31, 34, 20] \n",
            "\n",
            "\t****Encontrada mejor solucion: 2248 [0, 6, 7, 1, 3, 26, 18, 11, 12, 13, 15, 14, 16, 37, 19, 5, 2, 22, 24, 40, 39, 38, 20, 32, 30, 9, 25, 23, 21, 41, 8, 29, 10, 4, 28, 27, 36, 35, 17, 31, 34, 33] \n",
            "\n",
            "\t****Encontrada mejor solucion: 2198 [0, 1, 36, 35, 31, 17, 15, 29, 2, 30, 28, 4, 18, 6, 3, 12, 11, 24, 21, 40, 39, 38, 22, 25, 10, 8, 9, 23, 41, 27, 26, 5, 13, 19, 37, 16, 14, 32, 33, 20, 34, 7] \n",
            "\n",
            "\t****Encontrada mejor solucion: 2177 [0, 1, 36, 35, 31, 17, 15, 29, 2, 30, 28, 4, 18, 6, 3, 12, 11, 24, 21, 40, 39, 38, 22, 27, 10, 8, 9, 23, 41, 25, 26, 5, 13, 19, 37, 16, 14, 32, 33, 20, 34, 7] \n",
            "\n",
            "\t****Encontrada mejor solucion: 2097 [0, 1, 36, 35, 31, 17, 15, 29, 2, 27, 28, 4, 18, 6, 3, 12, 11, 24, 21, 40, 39, 38, 22, 30, 10, 8, 9, 23, 41, 25, 26, 5, 13, 19, 37, 16, 14, 32, 33, 20, 34, 7] \n",
            "\n",
            "\t****Encontrada mejor solucion: 2089 [0, 1, 36, 35, 31, 17, 15, 29, 2, 27, 28, 4, 18, 6, 3, 12, 11, 24, 21, 40, 39, 38, 22, 30, 10, 8, 9, 23, 41, 25, 26, 5, 13, 19, 37, 16, 14, 32, 34, 20, 33, 7] \n",
            "\n",
            "\t****Encontrada mejor solucion: 2084 [0, 1, 7, 35, 31, 17, 15, 27, 28, 2, 3, 4, 12, 18, 10, 6, 11, 21, 24, 40, 39, 38, 22, 30, 29, 8, 9, 23, 41, 25, 26, 5, 13, 19, 37, 16, 14, 32, 34, 20, 33, 36] \n",
            "\n",
            "\t****Encontrada mejor solucion: 2045 [0, 1, 7, 6, 18, 13, 19, 15, 14, 36, 17, 31, 20, 34, 33, 38, 22, 39, 8, 11, 10, 25, 28, 30, 29, 9, 21, 24, 40, 23, 41, 12, 27, 4, 26, 5, 3, 2, 32, 35, 16, 37] \n",
            "\n",
            "\t****Encontrada mejor solucion: 2043 [0, 5, 7, 1, 27, 4, 19, 15, 14, 36, 31, 35, 20, 34, 33, 38, 22, 39, 8, 25, 10, 11, 28, 30, 29, 9, 21, 24, 40, 23, 41, 12, 13, 18, 26, 6, 3, 2, 32, 17, 16, 37] \n",
            "\n",
            "\t****Encontrada mejor solucion: 1998 [0, 5, 7, 1, 27, 4, 19, 15, 14, 36, 35, 31, 20, 34, 33, 38, 22, 39, 8, 25, 10, 11, 28, 30, 29, 9, 21, 24, 40, 23, 41, 12, 13, 18, 26, 6, 3, 2, 32, 17, 16, 37] \n",
            "\n",
            "\t****Encontrada mejor solucion: 1990 [0, 5, 19, 1, 27, 4, 7, 15, 14, 36, 35, 31, 20, 34, 33, 38, 22, 39, 8, 25, 10, 11, 28, 30, 29, 9, 21, 24, 40, 23, 41, 12, 13, 18, 26, 6, 3, 2, 32, 17, 16, 37] \n",
            "\n",
            "\t****Encontrada mejor solucion: 1986 [0, 1, 6, 4, 18, 5, 14, 13, 15, 36, 35, 31, 20, 34, 33, 38, 22, 8, 9, 10, 11, 25, 29, 28, 30, 39, 21, 24, 40, 23, 41, 12, 26, 19, 2, 27, 3, 32, 7, 17, 37, 16] \n",
            "\n",
            "\t****Encontrada mejor solucion: 1967 [0, 1, 6, 4, 18, 5, 19, 13, 15, 36, 35, 31, 20, 34, 33, 38, 22, 8, 9, 10, 11, 25, 29, 28, 30, 39, 21, 24, 40, 23, 41, 12, 26, 16, 2, 27, 3, 32, 7, 17, 37, 14] \n",
            "\n",
            "\t****Encontrada mejor solucion: 1953 [0, 1, 6, 4, 18, 5, 19, 13, 15, 36, 35, 31, 20, 34, 33, 38, 22, 8, 9, 10, 11, 25, 29, 28, 30, 39, 21, 24, 40, 23, 41, 12, 26, 16, 3, 27, 2, 32, 7, 17, 37, 14] \n",
            "\n",
            "\t****Encontrada mejor solucion: 1931 [0, 32, 3, 4, 5, 37, 15, 7, 17, 31, 36, 35, 20, 33, 34, 30, 29, 28, 9, 8, 39, 10, 1, 38, 22, 24, 40, 21, 23, 41, 25, 12, 11, 18, 26, 6, 2, 27, 13, 19, 14, 16] \n",
            "\n",
            "\t****Encontrada mejor solucion: 1887 [0, 32, 3, 4, 5, 37, 15, 7, 17, 31, 36, 35, 20, 33, 34, 30, 29, 28, 8, 9, 39, 10, 1, 38, 22, 24, 40, 21, 23, 41, 25, 12, 11, 18, 26, 6, 2, 27, 13, 19, 14, 16] \n",
            "\n",
            "\t****Encontrada mejor solucion: 1870 [0, 32, 3, 4, 5, 37, 15, 16, 17, 31, 36, 35, 20, 33, 34, 30, 29, 28, 8, 9, 39, 10, 1, 38, 22, 24, 40, 21, 23, 41, 25, 12, 11, 18, 26, 6, 2, 27, 13, 19, 14, 7] \n",
            "\n",
            "\t****Encontrada mejor solucion: 1831 [0, 32, 3, 4, 5, 37, 15, 16, 17, 31, 36, 35, 20, 33, 34, 30, 29, 28, 8, 9, 39, 10, 2, 38, 22, 24, 40, 21, 23, 41, 25, 12, 11, 18, 26, 6, 1, 27, 13, 19, 14, 7] \n",
            "\n",
            "\t****Encontrada mejor solucion: 1824 [0, 32, 3, 4, 5, 37, 15, 16, 17, 31, 36, 35, 20, 33, 34, 30, 29, 28, 8, 9, 39, 10, 2, 38, 22, 24, 40, 21, 23, 41, 25, 12, 11, 18, 26, 27, 1, 6, 13, 19, 14, 7] \n",
            "\n",
            "\t****Encontrada mejor solucion: 1807 [0, 32, 3, 4, 5, 37, 15, 16, 17, 31, 36, 35, 20, 33, 34, 30, 29, 28, 8, 9, 39, 10, 2, 38, 22, 24, 40, 21, 23, 41, 25, 11, 12, 18, 26, 27, 1, 6, 13, 19, 14, 7] \n",
            "\n",
            "\t****Encontrada mejor solucion: 1760 [0, 32, 3, 4, 5, 16, 15, 37, 17, 31, 36, 35, 20, 33, 34, 30, 29, 28, 8, 9, 39, 10, 2, 38, 22, 24, 40, 21, 23, 41, 25, 11, 12, 18, 26, 27, 1, 6, 13, 19, 14, 7] \n",
            "\n",
            "\t****Encontrada mejor solucion: 1731 [0, 3, 1, 7, 14, 15, 16, 37, 31, 17, 36, 35, 33, 20, 34, 32, 28, 30, 8, 10, 39, 9, 29, 22, 38, 24, 21, 40, 23, 41, 25, 11, 12, 6, 4, 2, 27, 5, 13, 19, 18, 26] \n",
            "\n",
            "\t****Encontrada mejor solucion: 1730 [0, 3, 1, 7, 14, 15, 16, 37, 31, 17, 36, 35, 33, 20, 34, 32, 28, 30, 8, 10, 39, 9, 29, 22, 38, 24, 21, 40, 23, 41, 25, 11, 12, 6, 4, 27, 2, 5, 13, 19, 18, 26] \n",
            "\n",
            "\t****Encontrada mejor solucion: 1725 [0, 3, 1, 7, 14, 15, 16, 37, 31, 17, 36, 35, 33, 20, 34, 32, 28, 30, 39, 10, 8, 9, 29, 38, 22, 24, 21, 40, 23, 41, 25, 11, 12, 6, 4, 27, 2, 5, 13, 19, 18, 26] \n",
            "\n",
            "\t****Encontrada mejor solucion: 1714 [0, 27, 1, 7, 14, 15, 16, 37, 31, 17, 36, 35, 33, 20, 34, 32, 28, 30, 8, 10, 9, 39, 29, 38, 22, 24, 21, 40, 23, 41, 25, 11, 12, 6, 4, 3, 2, 19, 13, 5, 18, 26] \n",
            "\n",
            "\t****Encontrada mejor solucion: 1698 [0, 27, 1, 7, 14, 15, 16, 37, 31, 17, 36, 35, 33, 20, 34, 32, 28, 30, 8, 10, 9, 39, 29, 38, 22, 24, 21, 40, 23, 41, 25, 11, 12, 2, 4, 3, 6, 19, 13, 5, 18, 26] \n",
            "\n",
            "\t****Encontrada mejor solucion: 1682 [0, 4, 1, 7, 14, 15, 16, 37, 31, 17, 36, 35, 33, 20, 34, 32, 28, 30, 8, 10, 9, 39, 29, 38, 22, 24, 21, 40, 23, 41, 25, 11, 12, 2, 27, 3, 6, 19, 13, 5, 18, 26] \n",
            "\n",
            "\t****Encontrada mejor solucion: 1661 [0, 4, 1, 7, 37, 15, 16, 14, 31, 17, 36, 35, 33, 20, 34, 32, 28, 29, 8, 10, 9, 39, 30, 38, 22, 24, 21, 40, 23, 41, 25, 11, 12, 2, 27, 3, 6, 19, 13, 18, 26, 5] \n",
            "\n",
            "\t****Encontrada mejor solucion: 1650 [0, 3, 1, 7, 37, 15, 16, 14, 31, 17, 36, 35, 33, 20, 34, 32, 28, 29, 8, 10, 9, 39, 30, 38, 22, 24, 21, 40, 23, 41, 25, 11, 12, 2, 27, 4, 6, 19, 13, 18, 26, 5] \n",
            "\n",
            "\t****Encontrada mejor solucion: 1626 [0, 3, 1, 7, 37, 15, 16, 14, 31, 17, 36, 35, 33, 20, 34, 32, 28, 29, 8, 10, 9, 30, 22, 38, 39, 24, 21, 40, 23, 41, 25, 11, 12, 2, 27, 4, 6, 19, 13, 18, 26, 5] \n",
            "\n",
            "\t****Encontrada mejor solucion: 1620 [0, 1, 4, 7, 14, 16, 15, 37, 17, 31, 36, 35, 20, 33, 34, 32, 2, 30, 29, 10, 9, 21, 39, 22, 38, 24, 40, 23, 41, 8, 25, 11, 12, 18, 26, 27, 28, 3, 5, 19, 13, 6] \n",
            "\n",
            "\t****Encontrada mejor solucion: 1616 [0, 1, 3, 7, 16, 14, 15, 37, 17, 31, 36, 35, 20, 33, 34, 32, 2, 30, 29, 10, 9, 21, 39, 22, 38, 24, 40, 23, 41, 8, 25, 11, 12, 18, 26, 27, 28, 4, 13, 19, 5, 6] \n",
            "\n",
            "\t****Encontrada mejor solucion: 1590 [0, 1, 4, 7, 37, 14, 15, 16, 17, 31, 36, 35, 20, 33, 34, 32, 2, 30, 29, 8, 9, 21, 39, 22, 38, 24, 40, 23, 41, 10, 25, 11, 12, 18, 26, 27, 28, 3, 5, 19, 13, 6] \n",
            "\n",
            "\t****Encontrada mejor solucion: 1585 [0, 13, 19, 14, 16, 7, 15, 37, 17, 31, 36, 35, 20, 33, 34, 32, 2, 30, 29, 8, 9, 21, 39, 22, 38, 24, 40, 23, 41, 12, 10, 25, 11, 18, 26, 5, 27, 28, 3, 4, 6, 1] \n",
            "\n",
            "\t****Encontrada mejor solucion: 1572 [0, 19, 13, 14, 16, 7, 15, 37, 17, 31, 36, 35, 34, 33, 20, 32, 28, 30, 29, 8, 9, 21, 39, 22, 38, 24, 40, 23, 41, 12, 10, 25, 11, 18, 26, 5, 27, 2, 3, 4, 6, 1] \n",
            "\n",
            "\t****Encontrada mejor solucion: 1571 [0, 19, 13, 14, 16, 7, 15, 37, 17, 31, 36, 35, 34, 33, 20, 32, 28, 30, 29, 8, 9, 21, 39, 22, 38, 24, 40, 23, 41, 12, 11, 25, 10, 18, 26, 5, 27, 3, 2, 4, 6, 1] \n",
            "\n",
            "\t****Encontrada mejor solucion: 1570 [0, 19, 13, 14, 16, 7, 15, 37, 17, 31, 36, 35, 34, 33, 20, 32, 28, 30, 29, 8, 9, 21, 39, 22, 38, 24, 40, 23, 41, 12, 11, 25, 10, 18, 26, 5, 2, 3, 27, 4, 6, 1] \n",
            "\n",
            "\t****Encontrada mejor solucion: 1560 [0, 19, 13, 14, 16, 7, 15, 37, 17, 31, 36, 35, 34, 33, 20, 32, 28, 30, 29, 8, 9, 21, 39, 22, 38, 24, 40, 23, 41, 10, 11, 25, 12, 18, 26, 5, 2, 3, 27, 4, 6, 1] \n",
            "\n",
            "\t****Encontrada mejor solucion: 1540 [0, 19, 13, 14, 16, 7, 15, 37, 17, 31, 36, 35, 20, 33, 34, 32, 28, 30, 29, 8, 9, 21, 39, 22, 38, 24, 40, 23, 41, 10, 11, 25, 12, 18, 5, 26, 2, 3, 27, 4, 6, 1] \n",
            "\n",
            "\t****Encontrada mejor solucion: 1536 [0, 19, 13, 14, 16, 37, 15, 7, 17, 35, 36, 31, 20, 33, 34, 32, 28, 30, 29, 8, 9, 21, 39, 22, 38, 24, 40, 23, 41, 25, 10, 11, 12, 18, 5, 26, 27, 3, 2, 4, 6, 1] \n",
            "\n",
            "\t****Encontrada mejor solucion: 1520 [0, 19, 13, 14, 16, 37, 15, 7, 17, 35, 36, 31, 20, 33, 34, 32, 28, 30, 29, 8, 9, 21, 39, 22, 38, 24, 40, 23, 41, 25, 10, 11, 12, 18, 5, 26, 4, 3, 2, 27, 6, 1] \n",
            "\n",
            "\t****Encontrada mejor solucion: 1509 [0, 13, 19, 14, 16, 37, 15, 7, 17, 36, 35, 31, 20, 33, 34, 32, 28, 30, 29, 8, 9, 21, 39, 22, 38, 24, 40, 23, 41, 25, 10, 11, 12, 18, 5, 26, 4, 3, 2, 27, 1, 6] \n",
            "\n",
            "\t****Encontrada mejor solucion: 1503 [0, 13, 19, 14, 16, 15, 37, 7, 17, 36, 35, 31, 20, 33, 34, 32, 28, 30, 29, 8, 9, 21, 39, 22, 38, 24, 40, 23, 41, 10, 25, 11, 12, 18, 5, 26, 4, 6, 27, 2, 1, 3] \n",
            "\n",
            "\t****Encontrada mejor solucion: 1474 [0, 13, 19, 14, 16, 15, 37, 7, 17, 36, 35, 31, 20, 33, 34, 32, 28, 30, 29, 8, 9, 21, 39, 22, 38, 24, 40, 23, 41, 10, 25, 11, 12, 18, 5, 26, 4, 3, 27, 2, 1, 6] \n",
            "\n",
            "\t****Encontrada mejor solucion: 1472 [0, 1, 6, 7, 14, 16, 15, 37, 17, 31, 36, 35, 20, 33, 34, 32, 28, 30, 29, 8, 9, 21, 39, 22, 38, 24, 40, 23, 41, 10, 25, 11, 12, 18, 5, 26, 19, 13, 2, 4, 3, 27] \n",
            "\n",
            "\t****Encontrada mejor solucion: 1470 [0, 1, 6, 7, 14, 16, 15, 37, 17, 31, 36, 35, 20, 33, 34, 32, 28, 30, 29, 8, 9, 21, 39, 22, 38, 24, 40, 23, 41, 25, 10, 11, 12, 18, 5, 26, 19, 13, 2, 27, 3, 4] \n",
            "\n",
            "\t****Encontrada mejor solucion: 1449 [0, 1, 6, 7, 14, 16, 15, 37, 17, 31, 36, 35, 20, 33, 34, 32, 28, 30, 29, 8, 9, 21, 39, 22, 38, 24, 40, 23, 41, 25, 10, 11, 12, 18, 5, 13, 19, 26, 2, 27, 3, 4] \n",
            "\n",
            "\t****Encontrada mejor solucion: 1445 [0, 1, 6, 7, 14, 16, 15, 37, 17, 31, 36, 35, 20, 33, 34, 32, 28, 30, 29, 8, 9, 21, 39, 22, 38, 24, 40, 23, 41, 25, 10, 11, 12, 18, 5, 13, 19, 26, 4, 27, 3, 2] \n",
            "\n",
            "\t****Encontrada mejor solucion: 1442 [0, 1, 6, 7, 14, 16, 15, 37, 17, 31, 36, 35, 20, 33, 34, 32, 28, 30, 29, 8, 9, 21, 39, 22, 38, 24, 40, 23, 41, 25, 10, 11, 12, 18, 19, 13, 5, 26, 4, 27, 3, 2] \n",
            "\n",
            "\t****Encontrada mejor solucion: 1427 [0, 1, 6, 7, 14, 16, 15, 37, 17, 31, 36, 35, 20, 33, 34, 32, 28, 30, 29, 8, 9, 21, 39, 22, 38, 24, 40, 23, 41, 25, 10, 11, 12, 18, 19, 13, 5, 26, 4, 3, 27, 2] \n",
            "\n",
            "\t****Encontrada mejor solucion: 1425 [0, 1, 6, 7, 14, 16, 15, 37, 17, 31, 36, 35, 20, 33, 34, 32, 28, 30, 29, 8, 9, 21, 39, 22, 38, 24, 40, 23, 41, 25, 10, 11, 12, 18, 19, 13, 5, 26, 4, 3, 2, 27] \n",
            "\n",
            "\t****Encontrada mejor solucion: 1419 [0, 1, 6, 7, 14, 16, 15, 37, 17, 31, 36, 35, 20, 33, 34, 32, 28, 30, 29, 8, 9, 21, 39, 22, 38, 24, 40, 23, 41, 10, 25, 11, 12, 18, 19, 13, 5, 26, 4, 3, 27, 2] \n",
            "\n",
            "\t****Encontrada mejor solucion: 1411 [0, 6, 1, 7, 14, 16, 15, 37, 17, 31, 36, 35, 20, 33, 34, 32, 28, 30, 29, 8, 9, 21, 39, 22, 38, 24, 40, 23, 41, 10, 25, 11, 12, 18, 13, 19, 5, 26, 4, 3, 27, 2] \n",
            "\n",
            "\t****Encontrada mejor solucion: 1404 [0, 1, 6, 7, 14, 16, 15, 37, 17, 31, 36, 35, 20, 33, 34, 32, 28, 30, 29, 8, 9, 21, 39, 22, 38, 24, 40, 23, 41, 10, 25, 11, 12, 18, 13, 19, 5, 26, 4, 3, 2, 27] \n",
            "\n",
            "La mejor solución encontrada es : 1404 [0, 1, 6, 7, 14, 16, 15, 37, 17, 31, 36, 35, 20, 33, 34, 32, 28, 30, 29, 8, 9, 21, 39, 22, 38, 24, 40, 23, 41, 10, 25, 11, 12, 18, 13, 19, 5, 26, 4, 3, 2, 27]\n"
          ],
          "name": "stdout"
        }
      ]
    },
    {
      "cell_type": "code",
      "metadata": {
        "id": "NLR0yNyXIf6W",
        "colab_type": "code",
        "colab": {}
      },
      "source": [
        ""
      ],
      "execution_count": 0,
      "outputs": []
    },
    {
      "cell_type": "code",
      "metadata": {
        "id": "l9xhg_JxIf6a",
        "colab_type": "code",
        "colab": {}
      },
      "source": [
        "# Colonia de Hormigas \n",
        "\n",
        "def Add_Nodo(problem, H ,T ) :\n",
        "  #Establecer una una funcion de probabilidad para \n",
        "  # añadir un nuevo nodo dependiendo de los nodos mas cercanos y de las feromonas depositadas\n",
        "    Nodos = list(problem.get_nodes())\n",
        "    #print(\"lista \",  list(set(range(1,len(Nodos))) - set(H) ), \" H : \", H   )\n",
        "    eleccion = random.choice(   list(set(range(1,len(Nodos))) - set(H) )  )\n",
        "    #print(eleccion)\n",
        "    return eleccion\n",
        "\n",
        "\n",
        "def Incrementa_Feromona(problem, T, H):\n",
        "  #Incrementar segun la calidad de la solución. Añadir una cantidad inversamente proporcional a la distancia total \n",
        "    for i in range(len(H)-1):\n",
        "        T[H[i]][H[i+1]] += 1000/distancia_total(H, problem)\n",
        "    return T\n",
        "\n",
        "def Evaporar_Feromonas(T):\n",
        "  #Podemos elegir diferentes funciones de evaporación dependiendo de la cantidad actual y de la suma total de feromonas depositadas,...\n",
        "  #Evapora 0.3 el valor de la feromona, sin que baje de 1\n",
        "    T = [[ max(T[i][j] - 0.3 , 1) for i in range(len(Nodos)) ] for j in range(len(Nodos))]\n",
        "    return T"
      ],
      "execution_count": 0,
      "outputs": []
    },
    {
      "cell_type": "code",
      "metadata": {
        "scrolled": false,
        "id": "4WJFAtWnIf6d",
        "colab_type": "code",
        "colab": {}
      },
      "source": [
        "# Colonia de Hormigas \n",
        "\n",
        "def hormigas(problem, N) :\n",
        "    #problem = datos del problema\n",
        "    #N = Número de agentes(hormigas)\n",
        "\n",
        "    #Nodos\n",
        "    Nodos = list(problem.get_nodes())\n",
        "    #Aristas\n",
        "    Aristas = list(problem.get_edges()) \n",
        "\n",
        "    #Inicializa las aristas con una cantidad inicial de feromonas:1\n",
        "    # Mejora, inicializarlo con un valor proporsional a la distancia, reforzando las mas cortas\n",
        "    T = [[ 1 for _ in range(len(Nodos)) ] for _ in range(len(Nodos))]\n",
        "\n",
        "    #Se generan los agentes(hormigas) que serán estructuras de caminos desde 0\n",
        "    Hormiga = [[0] for _ in range(N)]\n",
        "    \n",
        "    #Recorre cada agente construyendo la solución\n",
        "    for h in range(N) :\n",
        "        #print(\"\\nAgente:\", h)\n",
        "        #Para cada agente se construye un camino\n",
        "        for i in range(len(Nodos)-1) :\n",
        "            \n",
        "            #Elige el siguiente nodo\n",
        "            Nuevo_Nodo = Add_Nodo(problem, Hormiga[h] ,T )\n",
        "\n",
        "            Hormiga[h].append(Nuevo_Nodo)     \n",
        "\n",
        "        #Incrementa feromonas en esa arista \n",
        "        T = Incrementa_Feromona(problem, T, Hormiga[h] )\n",
        "        #print(\"Feromonas(1)\", T)\n",
        "\n",
        "        #Evapora Feromonas  \n",
        "        T = Evaporar_Feromonas(T)\n",
        "        #print(\"Feromonas(2)\", T)\n",
        "\n",
        "    #Seleccionamos el mejor agente\n",
        "    #print (\"Hormiga\", Hormiga)\n",
        "    mejor_solucion = []\n",
        "    mejor_distancia = 10e100\n",
        "    for h in range(N) :\n",
        "        distancia_actual = distancia_total(Hormiga[h], problem)\n",
        "        if distancia_actual < mejor_distancia:\n",
        "            mejor_solucion = Hormiga[h]\n",
        "            mejor_distancia =distancia_actual\n",
        "    print(mejor_solucion)\n",
        "    print(mejor_distancia)"
      ],
      "execution_count": 0,
      "outputs": []
    },
    {
      "cell_type": "code",
      "metadata": {
        "id": "cw_xjbOPIf6g",
        "colab_type": "code",
        "outputId": "ff80bc83-7369-4c76-9d91-35fa9c62a006",
        "colab": {
          "base_uri": "https://localhost:8080/",
          "height": 51
        }
      },
      "source": [
        "hormigas(problem, 1000)"
      ],
      "execution_count": 0,
      "outputs": [
        {
          "output_type": "stream",
          "text": [
            "[0, 35, 15, 10, 12, 17, 19, 14, 16, 13, 27, 9, 23, 41, 18, 25, 26, 20, 22, 4, 3, 30, 40, 32, 37, 7, 33, 5, 34, 28, 8, 24, 21, 39, 2, 1, 6, 11, 36, 31, 38, 29]\n",
            "3709\n"
          ],
          "name": "stdout"
        }
      ]
    },
    {
      "cell_type": "code",
      "metadata": {
        "id": "880pZ7yUIf6k",
        "colab_type": "code",
        "colab": {}
      },
      "source": [
        "print([[ 1 for _ in range(10) ] for _ in range(10)])"
      ],
      "execution_count": 0,
      "outputs": []
    }
  ]
}