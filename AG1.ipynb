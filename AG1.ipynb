{
  "nbformat": 4,
  "nbformat_minor": 0,
  "metadata": {
    "colab": {
      "name": "AG1.ipynb",
      "provenance": [],
      "include_colab_link": true
    },
    "kernelspec": {
      "name": "python3",
      "display_name": "Python 3"
    }
  },
  "cells": [
    {
      "cell_type": "markdown",
      "metadata": {
        "id": "view-in-github",
        "colab_type": "text"
      },
      "source": [
        "<a href=\"https://colab.research.google.com/github/hradawski/03MAIR---Algoritmos-de-Optimizacion---2019/blob/master/AG1.ipynb\" target=\"_parent\"><img src=\"https://colab.research.google.com/assets/colab-badge.svg\" alt=\"Open In Colab\"/></a>"
      ]
    },
    {
      "cell_type": "code",
      "metadata": {
        "id": "20TdA-HeqPLp",
        "colab_type": "code",
        "colab": {
          "base_uri": "https://localhost:8080/",
          "height": 272
        },
        "outputId": "25614311-9fb8-4c0e-d81b-aed4a51730f9"
      },
      "source": [
        "# Divide y Venceras\n",
        "def torres(N, desde, hasta) : \n",
        "  if N==1 :\n",
        "      print('llevar desde ' , desde , ' hasta ' , hasta)\n",
        "  else : \n",
        "    torres (N-1 , desde,  6- desde - hasta) \n",
        "    print('llevar desde ' , desde , ' hasta ' , hasta)\n",
        "    torres (N-1 , 6- desde - hasta, hasta) \n",
        "\n",
        "torres(4,1,3)"
      ],
      "execution_count": 8,
      "outputs": [
        {
          "output_type": "stream",
          "text": [
            "llevar desde  1  hasta  2\n",
            "llevar desde  1  hasta  3\n",
            "llevar desde  2  hasta  3\n",
            "llevar desde  1  hasta  2\n",
            "llevar desde  3  hasta  1\n",
            "llevar desde  3  hasta  2\n",
            "llevar desde  1  hasta  2\n",
            "llevar desde  1  hasta  3\n",
            "llevar desde  2  hasta  3\n",
            "llevar desde  2  hasta  1\n",
            "llevar desde  3  hasta  1\n",
            "llevar desde  2  hasta  3\n",
            "llevar desde  1  hasta  2\n",
            "llevar desde  1  hasta  3\n",
            "llevar desde  2  hasta  3\n"
          ],
          "name": "stdout"
        }
      ]
    }
  ]
}